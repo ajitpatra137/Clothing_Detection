{
  "nbformat": 4,
  "nbformat_minor": 0,
  "metadata": {
    "colab": {
      "name": "Untitled6.ipynb",
      "provenance": [],
      "collapsed_sections": []
    },
    "kernelspec": {
      "name": "python3",
      "display_name": "Python 3"
    },
    "language_info": {
      "name": "python"
    }
  },
  "cells": [
    {
      "cell_type": "code",
      "source": [
        "import os.path as path\n",
        "from tqdm import tqdm\n",
        "import numpy as np\n",
        "import shutil\n",
        "import json\n",
        "import urllib\n",
        "import PIL.Image as Images\n",
        "import cv2\n",
        "from IPython.display import display\n",
        "from sklearn.model_selection import train_test_split\n",
        "\n",
        "import seaborn as sns\n",
        "from pylab import rcParams\n",
        "import matplotlib.pyplot as plt\n",
        "from matplotlib import rc\n",
        "\n",
        "%matplotlib inline\n",
        "%config InlineBackend.figure_format='retina'\n",
        "sns.set(style='whitegrid', palette='muted', font_scale=1.2)\n",
        "\n",
        "np.random.seed(42)"
      ],
      "metadata": {
        "id": "AaUI03lFGaRX"
      },
      "execution_count": null,
      "outputs": []
    },
    {
      "cell_type": "code",
      "source": [
        "clothing =[]\n",
        "with open('clothing.json') as f:\n",
        "  for line in f:\n",
        "    clothing.append(json.loads(line))"
      ],
      "metadata": {
        "id": "HVu5CkPcJ1wl",
        "colab": {
          "base_uri": "https://localhost:8080/",
          "height": 227
        },
        "outputId": "71a6a54c-18f7-4be4-e795-78b32ed547b5"
      },
      "execution_count": null,
      "outputs": [
        {
          "output_type": "error",
          "ename": "FileNotFoundError",
          "evalue": "ignored",
          "traceback": [
            "\u001b[0;31m---------------------------------------------------------------------------\u001b[0m",
            "\u001b[0;31mFileNotFoundError\u001b[0m                         Traceback (most recent call last)",
            "\u001b[0;32m<ipython-input-1-835923a9ef2b>\u001b[0m in \u001b[0;36m<module>\u001b[0;34m\u001b[0m\n\u001b[1;32m      1\u001b[0m \u001b[0mclothing\u001b[0m \u001b[0;34m=\u001b[0m\u001b[0;34m[\u001b[0m\u001b[0;34m]\u001b[0m\u001b[0;34m\u001b[0m\u001b[0;34m\u001b[0m\u001b[0m\n\u001b[0;32m----> 2\u001b[0;31m \u001b[0;32mwith\u001b[0m \u001b[0mopen\u001b[0m\u001b[0;34m(\u001b[0m\u001b[0;34m'clothing.json'\u001b[0m\u001b[0;34m)\u001b[0m \u001b[0;32mas\u001b[0m \u001b[0mf\u001b[0m\u001b[0;34m:\u001b[0m\u001b[0;34m\u001b[0m\u001b[0;34m\u001b[0m\u001b[0m\n\u001b[0m\u001b[1;32m      3\u001b[0m   \u001b[0;32mfor\u001b[0m \u001b[0mline\u001b[0m \u001b[0;32min\u001b[0m \u001b[0mf\u001b[0m\u001b[0;34m:\u001b[0m\u001b[0;34m\u001b[0m\u001b[0;34m\u001b[0m\u001b[0m\n\u001b[1;32m      4\u001b[0m     \u001b[0mclothing\u001b[0m\u001b[0;34m.\u001b[0m\u001b[0mappend\u001b[0m\u001b[0;34m(\u001b[0m\u001b[0mjson\u001b[0m\u001b[0;34m.\u001b[0m\u001b[0mloads\u001b[0m\u001b[0;34m(\u001b[0m\u001b[0mline\u001b[0m\u001b[0;34m)\u001b[0m\u001b[0;34m)\u001b[0m\u001b[0;34m\u001b[0m\u001b[0;34m\u001b[0m\u001b[0m\n",
            "\u001b[0;31mFileNotFoundError\u001b[0m: [Errno 2] No such file or directory: 'clothing.json'"
          ]
        }
      ]
    },
    {
      "cell_type": "code",
      "source": [
        "len(clothing)"
      ],
      "metadata": {
        "colab": {
          "base_uri": "https://localhost:8080/"
        },
        "id": "aHyeH5O4K247",
        "outputId": "7925aac4-fe19-4d25-da91-30d6e574a85f"
      },
      "execution_count": null,
      "outputs": [
        {
          "output_type": "execute_result",
          "data": {
            "text/plain": [
              "504"
            ]
          },
          "metadata": {},
          "execution_count": 11
        }
      ]
    },
    {
      "cell_type": "code",
      "source": [
        "for c in clothing:\n",
        "  if len(c['annotation']) > 1:\n",
        "    display(c)"
      ],
      "metadata": {
        "colab": {
          "base_uri": "https://localhost:8080/",
          "height": 294
        },
        "id": "7lQlfIWVK8M5",
        "outputId": "4ed3703f-8155-4e64-e471-50727d044f7e"
      },
      "execution_count": null,
      "outputs": [
        {
          "output_type": "display_data",
          "data": {
            "text/plain": [
              "{'content': 'http://com.dataturks.a96-i23.open.s3.amazonaws.com/2c9fafb063ad2b650163b00a1ead0017/b3be330c-c211-45bb-b244-11aef08021c8___Data_free-sk-5108-mudrika-original-imaf4fz626pegq9f.jpeg',\n",
              " 'annotation': [{'label': ['Jackets'],\n",
              "   'notes': '',\n",
              "   'points': [{'x': 0, 'y': 0.6185897435897436},\n",
              "    {'x': 0.026415094339622643, 'y': 0.6185897435897436}],\n",
              "   'imageWidth': 265,\n",
              "   'imageHeight': 312},\n",
              "  {'label': ['Skirts'],\n",
              "   'notes': '',\n",
              "   'points': [{'x': 0.01509433962264151, 'y': 0.03205128205128205},\n",
              "    {'x': 1, 'y': 0.9839743589743589}],\n",
              "   'imageWidth': 265,\n",
              "   'imageHeight': 312}],\n",
              " 'extras': None}"
            ]
          },
          "metadata": {}
        }
      ]
    },
    {
      "cell_type": "code",
      "source": [
        "categories = []\n",
        "\n",
        "for c in clothing:\n",
        "  for a in c['annotation']:\n",
        "    categories.extend(a['label'])\n",
        "\n",
        "categories = list(set(categories))\n",
        "categories"
      ],
      "metadata": {
        "colab": {
          "base_uri": "https://localhost:8080/"
        },
        "id": "QPguIaHYLhRx",
        "outputId": "597e6d85-654e-43e9-fe17-abafebad156f"
      },
      "execution_count": null,
      "outputs": [
        {
          "output_type": "execute_result",
          "data": {
            "text/plain": [
              "['Shoes',\n",
              " 'Tops',\n",
              " 'Jeans',\n",
              " 'Skirts',\n",
              " 'sunglasses',\n",
              " 'Tshirts',\n",
              " 'Trousers',\n",
              " 'Shirts',\n",
              " 'Jackets']"
            ]
          },
          "metadata": {},
          "execution_count": 13
        }
      ]
    },
    {
      "cell_type": "code",
      "source": [
        "len(categories)"
      ],
      "metadata": {
        "colab": {
          "base_uri": "https://localhost:8080/"
        },
        "id": "TdU4_Q_NMEcm",
        "outputId": "905526ad-7c14-4bd4-fafa-21841c50ba0a"
      },
      "execution_count": null,
      "outputs": [
        {
          "output_type": "execute_result",
          "data": {
            "text/plain": [
              "9"
            ]
          },
          "metadata": {},
          "execution_count": 14
        }
      ]
    },
    {
      "cell_type": "code",
      "source": [
        "train_clothing, val_clothing = train_test_split(clothing, test_size=0.1)"
      ],
      "metadata": {
        "id": "fj8rkMnPMI3A"
      },
      "execution_count": null,
      "outputs": []
    },
    {
      "cell_type": "code",
      "source": [
        "len(train_clothing), len(val_clothing)"
      ],
      "metadata": {
        "colab": {
          "base_uri": "https://localhost:8080/"
        },
        "id": "e2DEKfzoPbup",
        "outputId": "920dc9c8-dbc7-4ce6-bc9a-1d31dbfb337d"
      },
      "execution_count": null,
      "outputs": [
        {
          "output_type": "execute_result",
          "data": {
            "text/plain": [
              "(453, 51)"
            ]
          },
          "metadata": {},
          "execution_count": 20
        }
      ]
    },
    {
      "cell_type": "code",
      "source": [
        "row = train_clothing[0]\n",
        "\n",
        "img = urllib.request.urlopen(row['content'])\n",
        "img = Image.open(img)\n",
        "img = img.convert('RGB')\n",
        "\n",
        "img.save(\"demo_image.jpeg\"), cv2.COLOR_BGR2RGB"
      ],
      "metadata": {
        "id": "C2_3UY3SPnL2"
      },
      "execution_count": null,
      "outputs": []
    },
    {
      "cell_type": "code",
      "source": [
        "img.shape"
      ],
      "metadata": {
        "id": "D847iizcDoLJ"
      },
      "execution_count": null,
      "outputs": []
    },
    {
      "cell_type": "code",
      "source": [
        "for a in row['annotation']:\n",
        "  for a in label in a['label']:\n",
        "    w = a['imageWidth']\n",
        "    h = a['imageHeight']\n",
        "\n",
        "    points = a['points']\n",
        "    p1, p2 = points\n",
        "\n",
        "    x1, y1 = p1['x'] * w, p1['y'] * h\n",
        "    x1, y1 = p2['x'] * w, p2['y'] * h\n",
        "\n",
        "    cv2.rectangle(\n",
        "       img,\n",
        "       (int(x1), int(y1)),\n",
        "       (int(x2), int(y2))\n",
        "       color =(0, 255, 0)\n",
        "       thickness=2 \n",
        "    )\n",
        "\n",
        "    cv2.getTextSize(\n",
        "        label,\n",
        "        fontFace=cv2.FONT_HERSHEY_PLAIN,\n",
        "        fontScale=1.75,\n",
        "        thickness=2\n",
        "    )\n",
        "\n",
        "    cv2.rectangle(\n",
        "       img,\n",
        "       (int(x1), int(y1)),\n",
        "       (\n",
        "         int(x1 + label_width + label_width * 0.05),\n",
        "         int(y1 + label_height + label_height *0.25)\n",
        "        )\n",
        "       color =(0, 255, 0)\n",
        "       thickness=cv2.FILLED\n",
        "    )\n",
        "\n",
        "    cv.putText(\n",
        "        img,\n",
        "        label,\n",
        "        org=(imt(x1), int(y1 + label_height + label_height * 0.25)),\n",
        "        fontFace = cv2.FONT_HERSHEY_PLAIN,\n",
        "        fontScale = 1.75,\n",
        "        color(255, 255, 255),\n",
        "        thickness = 2\n",
        "    ) \n"
      ],
      "metadata": {
        "id": "J9p3l1NC_Q7J"
      },
      "execution_count": null,
      "outputs": []
    },
    {
      "cell_type": "code",
      "source": [
        "plt.imshow(img)\n",
        "plt.axis('off'):"
      ],
      "metadata": {
        "id": "T_LgK8o0Fxt7"
      },
      "execution_count": null,
      "outputs": []
    },
    {
      "cell_type": "code",
      "source": [
        "plt.imshow(img)\n",
        "plt.axis('off')"
      ],
      "metadata": {
        "id": "Xak5rEYFBV1C"
      },
      "execution_count": null,
      "outputs": []
    },
    {
      "cell_type": "code",
      "source": [
        ""
      ],
      "metadata": {
        "id": "FOaXvvA1Bi7f"
      },
      "execution_count": null,
      "outputs": []
    }
  ]
}